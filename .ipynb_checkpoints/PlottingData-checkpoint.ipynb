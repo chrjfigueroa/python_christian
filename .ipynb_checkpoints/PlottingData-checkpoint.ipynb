{
 "cells": [
  {
   "cell_type": "code",
   "execution_count": 1,
   "id": "a74d963b-6159-441b-948d-031c7be2ca29",
   "metadata": {},
   "outputs": [],
   "source": [
    "# This file analyzes data from an exoplanet data csv file and creates graphs based on the analysis.\n",
    "import numpy as np\n",
    "import matplotlib.pyplot as plt\n",
    "import seaborn as sns\n",
    "import pandas as pd\n",
    "\n",
    "#UNIT CONVERSIONS TO SI \n",
    "\"\"\"\n",
    "Days * 86400 Seconds/Day\n",
    "EarthRadius * 6.378e+6 Meters/EarthRadius\n",
    "EarthMass * 5.972e+24 Kilogram/EarthMass\n",
    "\"\"\"\n",
    "\n",
    "#CONSTANTS\n",
    "Kb = 1.380649e-29 # Boltzmann Constant (Joules/Kelvin)\n",
    "mu = 4.8e-26 # Average mass of gas particle on Earth (Kilograms)\n",
    "G = 6.67428e-11 # Gravitational Constant (m^3 * Kg^-1 * s^-2)"
   ]
  },
  {
   "cell_type": "code",
   "execution_count": null,
   "id": "ccc14bb4-65d8-4235-9164-5d8bee08e827",
   "metadata": {},
   "outputs": [],
   "source": [
    "df = pd.read_csv(\""
   ]
  }
 ],
 "metadata": {
  "kernelspec": {
   "display_name": "Python 3 (ipykernel)",
   "language": "python",
   "name": "python3"
  },
  "language_info": {
   "codemirror_mode": {
    "name": "ipython",
    "version": 3
   },
   "file_extension": ".py",
   "mimetype": "text/x-python",
   "name": "python",
   "nbconvert_exporter": "python",
   "pygments_lexer": "ipython3",
   "version": "3.12.4"
  }
 },
 "nbformat": 4,
 "nbformat_minor": 5
}
